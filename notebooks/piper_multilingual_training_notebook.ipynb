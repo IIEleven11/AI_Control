{
  "cells": [
    {
      "cell_type": "markdown",
      "metadata": {
        "id": "view-in-github",
        "colab_type": "text"
      },
      "source": [
        "<a href=\"https://colab.research.google.com/github/IIEleven11/AI_Control/blob/main/notebooks/piper_multilingual_training_notebook.ipynb\" target=\"_parent\"><img src=\"https://colab.research.google.com/assets/colab-badge.svg\" alt=\"Open In Colab\"/></a>"
      ]
    },
    {
      "cell_type": "markdown",
      "metadata": {
        "id": "eK3nmYDB6C1a"
      },
      "source": [
        "# <font color=\"ffc800\"> **[Piper](https://github.com/rhasspy/piper) training notebook.**\n",
        "## ![Piper logo](https://contribute.rhasspy.org/img/logo.png)\n",
        "\n",
        "---\n",
        "\n",
        "- Notebook made by [rmcpantoja](http://github.com/rmcpantoja)\n",
        "- Collaborator: [Xx_Nessu_xX](http://github.com/Xx_Nessu_xX)\n",
        "\n",
        "---\n",
        "\n",
        "# Notes:\n",
        "\n",
        "- <font color=\"orange\">**Things in orange mean that they are important.**\n",
        "\n",
        "# Credits:\n",
        "\n",
        "* [Feanix-Fyre fork](https://github.com/Feanix-Fyre/piper) with some improvements.\n",
        "* [Tacotron2 NVIDIA training notebook](https://github.com/justinjohn0306/FakeYou-Tacotron2-Notebook) - Dataset duration snippet.\n",
        "* [🐸TTS](https://github.com/coqui-ai/TTS) - Resampler and XTTS formater demo."
      ]
    },
    {
      "cell_type": "markdown",
      "metadata": {
        "id": "AICh6p5OJybj"
      },
      "source": [
        "# <font color=\"ffc800\">🔧 ***First steps.*** 🔧"
      ]
    },
    {
      "cell_type": "code",
      "execution_count": 1,
      "metadata": {
        "cellView": "form",
        "id": "qyxSMuzjfQrz",
        "outputId": "6b4f88a0-27ec-4e0f-f106-302fa2dc6ef9",
        "colab": {
          "base_uri": "https://localhost:8080/",
          "height": 17
        }
      },
      "outputs": [
        {
          "output_type": "display_data",
          "data": {
            "text/plain": [
              "<IPython.core.display.Javascript object>"
            ],
            "application/javascript": [
              "\n",
              "function ClickConnect(){\n",
              "console.log(\"Working\");\n",
              "document.querySelector(\"colab-toolbar-button#connect\").click()\n",
              "}\n",
              "setInterval(ClickConnect,60000)\n"
            ]
          },
          "metadata": {}
        }
      ],
      "source": [
        "#@markdown ## <font color=\"ffc800\"> **Google Colab Anti-Disconnect.** 🔌\n",
        "#@markdown ---\n",
        "#@markdown #### Avoid automatic disconnection. Still, it will disconnect after <font color=\"orange\">**6 to 12 hours**</font>.\n",
        "\n",
        "import IPython\n",
        "js_code = '''\n",
        "function ClickConnect(){\n",
        "console.log(\"Working\");\n",
        "document.querySelector(\"colab-toolbar-button#connect\").click()\n",
        "}\n",
        "setInterval(ClickConnect,60000)\n",
        "'''\n",
        "display(IPython.display.Javascript(js_code))"
      ]
    },
    {
      "cell_type": "code",
      "execution_count": 2,
      "metadata": {
        "cellView": "form",
        "id": "ygxzp-xHTC7T",
        "outputId": "695f7aba-b5d8-4cde-cd8b-e04d8f485ee3",
        "colab": {
          "base_uri": "https://localhost:8080/"
        }
      },
      "outputs": [
        {
          "output_type": "stream",
          "name": "stdout",
          "text": [
            "Mon Apr 28 01:10:11 2025       \r\n",
            "+-----------------------------------------------------------------------------------------+\r\n",
            "| NVIDIA-SMI 575.51.02              Driver Version: 576.02         CUDA Version: 12.9     |\r\n",
            "|-----------------------------------------+------------------------+----------------------+\r\n",
            "| GPU  Name                 Persistence-M | Bus-Id          Disp.A | Volatile Uncorr. ECC |\r\n",
            "| Fan  Temp   Perf          Pwr:Usage/Cap |           Memory-Usage | GPU-Util  Compute M. |\r\n",
            "|                                         |                        |               MIG M. |\r\n",
            "|=========================================+========================+======================|\n",
            "|   0  NVIDIA GeForce RTX 3090        On  |   00000000:01:00.0  On |                  N/A |\n",
            "| 54%   55C    P2            185W /  420W |   23154MiB /  24576MiB |    100%      Default |\n",
            "|                                         |                        |                  N/A |\n",
            "+-----------------------------------------+------------------------+----------------------+\n",
            "                                                                                         \n",
            "+-----------------------------------------------------------------------------------------+\n",
            "| Processes:                                                                              |\n",
            "|  GPU   GI   CI              PID   Type   Process name                        GPU Memory |\n",
            "|        ID   ID                                                               Usage      |\n",
            "|=========================================================================================|\n",
            "|    0   N/A  N/A          331652      C   /python3.11                           N/A      |\n",
            "+-----------------------------------------------------------------------------------------+\n"
          ]
        }
      ],
      "source": [
        "#@markdown ## <font color=\"ffc800\"> **Check GPU type.** 👁️\n",
        "#@markdown ---\n",
        "#@markdown #### A higher capable GPU can lead to faster training speeds. By default, you will have a <font color=\"orange\">**Tesla T4**</font>.\n",
        "!nvidia-smi"
      ]
    },
    {
      "cell_type": "code",
      "execution_count": 3,
      "metadata": {
        "id": "sUNjId07JfAK",
        "outputId": "92782d04-49b8-48c4-a343-18cb139a638d",
        "colab": {
          "base_uri": "https://localhost:8080/",
          "height": 193
        }
      },
      "outputs": [
        {
          "output_type": "error",
          "ename": "ModuleNotFoundError",
          "evalue": "No module named 'google.colab'",
          "traceback": [
            "\u001b[31m---------------------------------------------------------------------------\u001b[39m",
            "\u001b[31mModuleNotFoundError\u001b[39m                       Traceback (most recent call last)",
            "\u001b[36mCell\u001b[39m\u001b[36m \u001b[39m\u001b[32mIn[3]\u001b[39m\u001b[32m, line 3\u001b[39m\n\u001b[32m      1\u001b[39m \u001b[38;5;66;03m#@markdown # <font color=\"ffc800\"> **Mount Google Drive.** 📂\u001b[39;00m\n\u001b[32m      2\u001b[39m \u001b[38;5;66;03m#@markdown ---\u001b[39;00m\n\u001b[32m----> \u001b[39m\u001b[32m3\u001b[39m \u001b[38;5;28;01mfrom\u001b[39;00m\u001b[38;5;250m \u001b[39m\u001b[34;01mgoogle\u001b[39;00m\u001b[34;01m.\u001b[39;00m\u001b[34;01mcolab\u001b[39;00m\u001b[38;5;250m \u001b[39m\u001b[38;5;28;01mimport\u001b[39;00m drive\n\u001b[32m      4\u001b[39m drive.mount(\u001b[33m'\u001b[39m\u001b[33m/content/drive\u001b[39m\u001b[33m'\u001b[39m, force_remount=\u001b[38;5;28;01mTrue\u001b[39;00m)\n",
            "\u001b[31mModuleNotFoundError\u001b[39m: No module named 'google.colab'"
          ]
        }
      ],
      "source": [
        "#@markdown # <font color=\"ffc800\"> **Mount Google Drive.** 📂\n",
        "#@markdown ---\n",
        "from google.colab import drive\n",
        "drive.mount('/home/eleven/content/drive', force_remount=True)"
      ]
    },
    {
      "cell_type": "code",
      "execution_count": 4,
      "metadata": {
        "id": "_XwmTVlcUgCh",
        "cellView": "form",
        "outputId": "fb6e43ef-27ec-457b-d98e-f724e2df4d7c",
        "colab": {
          "base_uri": "https://localhost:8080/"
        }
      },
      "outputs": [
        {
          "output_type": "stream",
          "name": "stdout",
          "text": [
            "fatal: destination path 'piper' already exists and is not an empty directory.\r\n",
            "[Errno 2] No such file or directory: '/content/piper/src/python'\n",
            "/home/eleven/content\n",
            "Requirement already satisfied: gdown in ./.venv/lib/python3.11/site-packages (5.2.0)\n",
            "Requirement already satisfied: transformers in ./.venv/lib/python3.11/site-packages (4.51.3)\n",
            "Requirement already satisfied: beautifulsoup4 in ./.venv/lib/python3.11/site-packages (from gdown) (4.13.4)\n",
            "Requirement already satisfied: filelock in ./.venv/lib/python3.11/site-packages (from gdown) (3.18.0)\n",
            "Requirement already satisfied: requests[socks] in ./.venv/lib/python3.11/site-packages (from gdown) (2.32.3)\n",
            "Requirement already satisfied: tqdm in ./.venv/lib/python3.11/site-packages (from gdown) (4.67.1)\n",
            "Requirement already satisfied: huggingface-hub<1.0,>=0.30.0 in ./.venv/lib/python3.11/site-packages (from transformers) (0.30.2)\n",
            "Requirement already satisfied: numpy>=1.17 in ./.venv/lib/python3.11/site-packages (from transformers) (1.26.0)\n",
            "Requirement already satisfied: packaging>=20.0 in ./.venv/lib/python3.11/site-packages (from transformers) (25.0)\n",
            "Requirement already satisfied: pyyaml>=5.1 in ./.venv/lib/python3.11/site-packages (from transformers) (6.0.2)\n",
            "Requirement already satisfied: regex!=2019.12.17 in ./.venv/lib/python3.11/site-packages (from transformers) (2024.11.6)\n",
            "Requirement already satisfied: tokenizers<0.22,>=0.21 in ./.venv/lib/python3.11/site-packages (from transformers) (0.21.1)\n",
            "Requirement already satisfied: safetensors>=0.4.3 in ./.venv/lib/python3.11/site-packages (from transformers) (0.5.3)\n",
            "Requirement already satisfied: fsspec>=2023.5.0 in ./.venv/lib/python3.11/site-packages (from huggingface-hub<1.0,>=0.30.0->transformers) (2025.3.2)\n",
            "Requirement already satisfied: typing-extensions>=3.7.4.3 in ./.venv/lib/python3.11/site-packages (from huggingface-hub<1.0,>=0.30.0->transformers) (4.13.2)\n",
            "Requirement already satisfied: soupsieve>1.2 in ./.venv/lib/python3.11/site-packages (from beautifulsoup4->gdown) (2.7)\n",
            "Requirement already satisfied: charset-normalizer<4,>=2 in ./.venv/lib/python3.11/site-packages (from requests[socks]->gdown) (3.4.1)\n",
            "Requirement already satisfied: idna<4,>=2.5 in ./.venv/lib/python3.11/site-packages (from requests[socks]->gdown) (3.10)\n",
            "Requirement already satisfied: urllib3<3,>=1.21.1 in ./.venv/lib/python3.11/site-packages (from requests[socks]->gdown) (2.4.0)\n",
            "Requirement already satisfied: certifi>=2017.4.17 in ./.venv/lib/python3.11/site-packages (from requests[socks]->gdown) (2025.1.31)\n",
            "Requirement already satisfied: PySocks!=1.5.7,>=1.5.6 in ./.venv/lib/python3.11/site-packages (from requests[socks]->gdown) (1.7.1)\n",
            "bash: build_monotonic_align.sh: No such file or directory\n",
            "Done!\n"
          ]
        }
      ],
      "source": [
        "#@markdown # <font color=\"ffc800\"> **Install software.** 📦\n",
        "#@markdown ---\n",
        "#@markdown ####In this cell the synthesizer and its necessary dependencies to execute the training will be installed. (this may take a while)\n",
        "\n",
        "# clone:\n",
        "!git clone -q https://github.com/rmcpantoja/piper\n",
        "%cd /home/eleven/content/piper/src/python\n",
        "!wget -q \"https://raw.githubusercontent.com/coqui-ai/TTS/dev/TTS/bin/resample.py\"\n",
        "#!pip install -q -r requirements.txt\n",
        "!pip install -q cython>=0.29.0 piper-phonemize==1.1.0 librosa>=0.9.2 numpy==1.26 onnxruntime>=1.15.0 pytorch-lightning\n",
        "!pip install --upgrade gdown transformers\n",
        "!bash build_monotonic_align.sh\n",
        "# Useful vars:\n",
        "use_whisper = True\n",
        "print(\"Done!\")"
      ]
    },
    {
      "cell_type": "code",
      "source": [
        "%cd .."
      ],
      "metadata": {
        "id": "5f6ZK-hndXxQ",
        "outputId": "1b9b02f8-8e76-429e-ebc2-dee1ae6602b3",
        "colab": {
          "base_uri": "https://localhost:8080/"
        }
      },
      "execution_count": 13,
      "outputs": [
        {
          "output_type": "stream",
          "name": "stdout",
          "text": [
            "/home/eleven\n"
          ]
        }
      ]
    },
    {
      "cell_type": "markdown",
      "metadata": {
        "id": "A3bMzEE0V5Ma"
      },
      "source": [
        "# <font color=\"ffc800\"> 🤖 ***Training.*** 🤖"
      ]
    },
    {
      "cell_type": "code",
      "source": [],
      "metadata": {
        "id": "YJqGWGCHe4Jk"
      },
      "execution_count": null,
      "outputs": []
    },
    {
      "cell_type": "code",
      "execution_count": 19,
      "metadata": {
        "id": "SvEGjf0aV8eg",
        "outputId": "366713f4-fa52-443d-9aa1-9f119f1418df",
        "colab": {
          "base_uri": "https://localhost:8080/",
          "height": 245
        }
      },
      "outputs": [
        {
          "output_type": "stream",
          "name": "stdout",
          "text": [
            "/home/eleven/content\n",
            "/home/eleven/content/dataset\n"
          ]
        },
        {
          "output_type": "error",
          "ename": "Exception",
          "evalue": "The path provided to the wavs is not correct. Please set a valid path.",
          "traceback": [
            "\u001b[31m---------------------------------------------------------------------------\u001b[39m",
            "\u001b[31mException\u001b[39m                                 Traceback (most recent call last)",
            "\u001b[36mCell\u001b[39m\u001b[36m \u001b[39m\u001b[32mIn[19]\u001b[39m\u001b[32m, line 46\u001b[39m\n\u001b[32m     44\u001b[39m             get_ipython().system(\u001b[33m'\u001b[39m\u001b[33mcp -a \u001b[39m\u001b[33m\"\u001b[39m\u001b[33m$fp\u001b[39m\u001b[33m\"\u001b[39m\u001b[33m \u001b[39m\u001b[33m\"\u001b[39m\u001b[33m/home/eleven/content/dataset/wavs\u001b[39m\u001b[33m\"\u001b[39m\u001b[33m'\u001b[39m)\n\u001b[32m     45\u001b[39m     \u001b[38;5;28;01melse\u001b[39;00m:\n\u001b[32m---> \u001b[39m\u001b[32m46\u001b[39m         \u001b[38;5;28;01mraise\u001b[39;00m \u001b[38;5;167;01mException\u001b[39;00m(\u001b[33m\"\u001b[39m\u001b[33mThe path provided to the wavs is not correct. Please set a valid path.\u001b[39m\u001b[33m\"\u001b[39m)\n\u001b[32m     47\u001b[39m \u001b[38;5;28;01melse\u001b[39;00m:\n\u001b[32m     48\u001b[39m     \u001b[38;5;28;01mraise\u001b[39;00m \u001b[38;5;167;01mException\u001b[39;00m(\u001b[33m\"\u001b[39m\u001b[33mYou must provide with a path to the wavs.\u001b[39m\u001b[33m\"\u001b[39m)\n",
            "\u001b[31mException\u001b[39m: The path provided to the wavs is not correct. Please set a valid path."
          ]
        }
      ],
      "source": [
        "#@markdown # <font color=\"ffc800\"> **1. Extract dataset.** 📥\n",
        "#@markdown ---\n",
        "#@markdown ####Important: the audios must be in <font color=\"orange\">**wav format, (16000 or 22050hz, 16-bits, mono), and, for convenience, numbered. Example:**\n",
        "\n",
        "#@markdown * <font color=\"orange\">**1.wav**</font>\n",
        "#@markdown * <font color=\"orange\">**2.wav**</font>\n",
        "#@markdown * <font color=\"orange\">**3.wav**</font>\n",
        "#@markdown * <font color=\"orange\">**.....**</font>\n",
        "\n",
        "#@markdown ---\n",
        "import os\n",
        "import wave\n",
        "import zipfile\n",
        "import datetime\n",
        "\n",
        "def get_dataset_duration(wav_path):\n",
        "    totalduration = 0\n",
        "    for file_name in [x for x in os.listdir(wav_path) if os.path.isfile(x) and \".wav\" in x]:\n",
        "        with wave.open(file_name, \"rb\") as wave_file:\n",
        "            frames = wave_file.getnframes()\n",
        "            rate = wave_file.getframerate()\n",
        "            duration = frames / float(rate)\n",
        "            totalduration += duration\n",
        "    wav_count = len(os.listdir(wav_path))\n",
        "    duration_str = str(datetime.timedelta(seconds=round(totalduration, 0)))\n",
        "    return wav_count, duration_str\n",
        "\n",
        "%cd /home/eleven/content\n",
        "if not os.path.exists(\"/home/eleven/content/dataset\"):\n",
        "    os.makedirs(\"/home/eleven/content/dataset\")\n",
        "    os.makedirs(\"/home/eleven/content/dataset/wavs\")\n",
        "%cd /home/eleven/content/dataset\n",
        "#@markdown ### Audio dataset path to unzip:\n",
        "zip_path = \"/home/eleven/content/dataset/wavs.zip\" #@param {type:\"string\"}\n",
        "zip_path = zip_path.strip()\n",
        "if zip_path:\n",
        "    if os.path.exists(zip_path):\n",
        "        if zipfile.is_zipfile(zip_path):\n",
        "            print(\"Unzipping audio content...\")\n",
        "            !unzip -q -j \"{zip_path}\" -d /home/eleven/content/dataset/wavs\n",
        "        else:\n",
        "            print(\"Copying audio contents of this folder...\")\n",
        "            fp = zip_path + \"/.\"\n",
        "            !cp -a \"$fp\" \"/home/eleven/content/dataset/wavs\"\n",
        "    else:\n",
        "        raise Exception(\"The path provided to the wavs is not correct. Please set a valid path.\")\n",
        "else:\n",
        "    raise Exception(\"You must provide with a path to the wavs.\")\n",
        "if os.path.exists(\"/home/eleven/content/dataset/wavs/wavs\"):\n",
        "    for file in os.listdir(\"/home/eleven/content/dataset/wavs/wavs\"):\n",
        "        !mv /home/eleven/content/dataset/wavs/wavs/\"$file\"  /home/eleven/content/dataset/wavs/\"$file\"\n",
        "    !rm -r /home/eleven/content/dataset/wavs/*.txt\n",
        "    !rm -r /home/eleven/content/dataset/wavs/*.csv\n",
        "%cd /home/eleven/content/dataset/wavs\n",
        "audio_count, dataset_dur = get_dataset_duration(\"/home/eleven/content/dataset/wavs\")\n",
        "print(f\"Opened dataset with {audio_count} wavs with duration {dataset_dur}.\")\n",
        "%cd ..\n",
        "#@markdown ---"
      ]
    },
    {
      "cell_type": "code",
      "execution_count": 21,
      "metadata": {
        "id": "E0W0OCvXXvue",
        "outputId": "dc9aac9d-39af-420a-910a-23ef86c026d6",
        "colab": {
          "base_uri": "https://localhost:8080/",
          "height": 228
        }
      },
      "outputs": [
        {
          "output_type": "stream",
          "name": "stdout",
          "text": [
            "/home/eleven/content/dataset\n"
          ]
        },
        {
          "output_type": "error",
          "ename": "NameError",
          "evalue": "name 'files' is not defined",
          "traceback": [
            "\u001b[31m---------------------------------------------------------------------------\u001b[39m",
            "\u001b[31mNameError\u001b[39m                                 Traceback (most recent call last)",
            "\u001b[36mCell\u001b[39m\u001b[36m \u001b[39m\u001b[32mIn[21]\u001b[39m\u001b[32m, line 38\u001b[39m\n\u001b[32m     36\u001b[39m   get_ipython().system(\u001b[33m'\u001b[39m\u001b[33mmv \u001b[39m\u001b[33m\"\u001b[39m\u001b[33m/home/eleven/content/dataset/wavs/_transcription.txt\u001b[39m\u001b[33m\"\u001b[39m\u001b[33m metadata.csv\u001b[39m\u001b[33m'\u001b[39m)\n\u001b[32m     37\u001b[39m \u001b[38;5;28;01melse\u001b[39;00m:\n\u001b[32m---> \u001b[39m\u001b[32m38\u001b[39m   listfn, length = \u001b[43mfiles\u001b[49m.upload().popitem()\n\u001b[32m     39\u001b[39m   \u001b[38;5;28;01mif\u001b[39;00m listfn != \u001b[33m\"\u001b[39m\u001b[33mmetadata.csv\u001b[39m\u001b[33m\"\u001b[39m:\n\u001b[32m     40\u001b[39m     get_ipython().system(\u001b[33m'\u001b[39m\u001b[33mmv \u001b[39m\u001b[33m\"\u001b[39m\u001b[33m$listfn\u001b[39m\u001b[33m\"\u001b[39m\u001b[33m metadata.csv\u001b[39m\u001b[33m'\u001b[39m)\n",
            "\u001b[31mNameError\u001b[39m: name 'files' is not defined"
          ]
        }
      ],
      "source": [
        "#@markdown # <font color=\"ffc800\"> **2. Upload the transcript file.** 📝\n",
        "#@markdown ---\n",
        "#@markdown ####<font color=\"orange\">**Important: the transcription means writing what the character says in each of the audios, and it must have the following structure:**\n",
        "\n",
        "#@markdown ##### <font color=\"orange\">For a single-speaker dataset:\n",
        "#@markdown * wavs/1.wav|This is what my character says in audio 1.\n",
        "#@markdown * wavs/2.wav|This, the text that the character says in audio 2.\n",
        "#@markdown * ...\n",
        "\n",
        "#@markdown ##### <font color=\"orange\">For a multi-speaker dataset:\n",
        "\n",
        "#@markdown * wavs/speaker1audio1.wav|speaker1|This is what the first speaker says.\n",
        "#@markdown * wavs/speaker1audio2.wav|speaker1|This is another audio of the first speaker.\n",
        "#@markdown * wavs/speaker2audio1.wav|speaker2|This is what the second speaker says in the first audio.\n",
        "#@markdown * wavs/speaker2audio2.wav|speaker2|This is another audio of the second speaker.\n",
        "#@markdown * ...\n",
        "\n",
        "#@markdown And so on. In addition, the transcript must be in a <font color=\"orange\">**.csv or .txt format. (UTF-8 without BOM)**\n",
        "\n",
        "#@markdown ## Auto-transcribe with whisper if transcription is not provided.\n",
        "\n",
        "#@markdown **Note: If you don't upload any transcription files, the wavs will be transcribed using the whisper tool when you execute the next step. Then, the notebook will continue with the rest of the preprocessing if there are no errors. Although the Whisper tool has good transcription results, in my experience I recommend transcribing manually and uploading it from this cell, since a good TTS voice needs to be optimized to give even better results. For example, when transcribing manually you will be able to observe every detail that the speaker makes (such as punctuation, sounds, etc.), and capture them in the transcription according to the speaker's intonations.**\n",
        "\n",
        "\n",
        "#@markdown However, if you want to transcribe and review this transcription, you can use the individual notebooks:\n",
        "\n",
        "#@markdown * [English](http://colab.research.google.com/github/rmcpantoja/My-Colab-Notebooks/blob/main/notebooks/OpenAI_Whisper_-_DotCSV_(Speech_dataset_multi-transcryption_support)en.ipynb)\n",
        "#@markdown * [French](http://colab.research.google.com/github/rmcpantoja/My-Colab-Notebooks/blob/main/notebooks/OpenAI_Whisper_-_DotCSV_(Speech_dataset_multi-transcryption_support)fr.ipynb)\n",
        "#@markdown * [Spanish](http://colab.research.google.com/github/rmcpantoja/My-Colab-Notebooks/blob/main/notebooks/OpenAI_Whisper_-_DotCSV_(Speech_dataset_multi-transcryption_support)es.ipynb)\n",
        "\n",
        "#@markdown ---\n",
        "%cd /home/eleven/content/dataset\n",
        "!rm /home/eleven/content/dataset/metadata.csv\n",
        "\n",
        "if os.path.exists(\"/home/eleven/content/dataset/wavs/_transcription.txt\"):\n",
        "  !mv \"/home/eleven/content/dataset/wavs/_transcription.txt\" metadata.csv\n",
        "else:\n",
        "  listfn, length = files.upload().popitem()\n",
        "  if listfn != \"metadata.csv\":\n",
        "    !mv \"$listfn\" metadata.csv\n",
        "\n",
        "use_whisper = False\n",
        "%cd .."
      ]
    },
    {
      "cell_type": "code",
      "execution_count": 24,
      "metadata": {
        "id": "dOyx9Y6JYvRF",
        "outputId": "c978bfd2-a993-4c78-e9fa-9d0861dbd30e",
        "colab": {
          "base_uri": "https://localhost:8080/"
        }
      },
      "outputs": [
        {
          "output_type": "stream",
          "name": "stdout",
          "text": [
            "/home/eleven/content/piper/src/python\n",
            "INFO:preprocess:Single speaker dataset\n",
            "INFO:preprocess:Wrote dataset config\n",
            "INFO:preprocess:Processing 850 utterance(s) with 16 worker(s)\n",
            "Preprocessing done!\n"
          ]
        }
      ],
      "source": [
        "#@markdown # <font color=\"ffc800\"> **3. Preprocess dataset.** 🔄\n",
        "#@markdown ---\n",
        "import os\n",
        "'''if use_whisper:\n",
        "    import torch\n",
        "    from faster_whisper import WhisperModel\n",
        "    from tqdm import tqdm\n",
        "    from google import colab\n",
        "\n",
        "    device = \"cuda\" if torch.cuda.is_available() else \"cpu\"\n",
        "    print(f\"Using device: {device}\")\n",
        "\n",
        "    def make_dataset(path, language):\n",
        "        metadata = \"\"\n",
        "        text = \"\"\n",
        "        files = [f for f in os.listdir(path) if f.endswith(\".wav\")]\n",
        "        assert len(files) > 0, \"You don't have wavs uploaded either! Please upload at least one zip with the wavs in step 2.\"\n",
        "        metadata_file = open(f\"{path}/../metadata.csv\", \"w\")\n",
        "        whisper = WhisperModel(\"large-v3\", device=device, compute_type=\"float16\")\n",
        "        for audio_file in tqdm(files):\n",
        "            full_path = os.path.join(path, audio_file)\n",
        "            segments, _ = whisper.transcribe(full_path, word_timestamps=False, language=language)\n",
        "            for segment in segments:\n",
        "                text += segment.text\n",
        "            text = text.strip()\n",
        "            text = text.replace('\\n', ' ')\n",
        "            metadata = f\"{audio_file}|{text}\\n\"\n",
        "            metadata_file.write(metadata)\n",
        "            text = \"\"\n",
        "        colab.files.download(f\"{path}/../metadata.csv\")\n",
        "        del whisper\n",
        "        return True '''\n",
        "\n",
        "#@markdown ### First of all, select the language of your dataset.\n",
        "language = \"English (U.S.)\" #@param [\"ألعَرَبِي\", \"Català\", \"čeština\", \"Dansk\", \"Deutsch\", \"Ελληνικά\", \"English (British)\", \"English (U.S.)\", \"Español (Castellano)\", \"Español (Latinoamericano)\", \"Suomi\", \"Français\", \"Magyar\", \"Icelandic\", \"Italiano\", \"ქართული\", \"қазақша\", \"Lëtzebuergesch\", \"नेपाली\", \"Nederlands\", \"Norsk\", \"Polski\", \"Português (Brasil)\", \"Português (Portugal)\", \"Română\", \"Русский\", \"Српски\", \"Svenska\", \"Kiswahili\", \"Türkçe\", \"украї́нська\", \"Tiếng Việt\", \"简体中文\"]\n",
        "#@markdown ---\n",
        "# language definition:\n",
        "languages = {\n",
        "    \"ألعَرَبِي\": \"ar\",\n",
        "    \"Català\": \"ca\",\n",
        "    \"čeština\": \"cs\",\n",
        "    \"Dansk\": \"da\",\n",
        "    \"Deutsch\": \"de\",\n",
        "    \"Ελληνικά\": \"el\",\n",
        "    \"English (British)\": \"en\",\n",
        "    \"English (U.S.)\": \"en-us\",\n",
        "    \"Español (Castellano)\": \"es\",\n",
        "    \"Español (Latinoamericano)\": \"es-419\",\n",
        "    \"Suomi.\": \"fi\",\n",
        "    \"Français\": \"fr\",\n",
        "    \"Magyar\": \"hu\",\n",
        "    \"Icelandic\": \"is\",\n",
        "    \"Italiano\": \"it\",\n",
        "    \"ქართული\": \"ka\",\n",
        "    \"қазақша\": \"kk\",\n",
        "    \"Lëtzebuergesch\": \"lb\",\n",
        "    \"नेपाली\": \"ne\",\n",
        "    \"Nederlands\": \"nl\",\n",
        "    \"Norsk\": \"nb\",\n",
        "    \"Polski\": \"pl\",\n",
        "    \"Português (Brasil)\": \"pt-br\",\n",
        "    \"Português (Portugal)\": \"pt-pt\",\n",
        "    \"Română\": \"ro\",\n",
        "    \"Русский\": \"ru\",\n",
        "    \"Српски\": \"sr\",\n",
        "    \"Svenska\": \"sv\",\n",
        "    \"Kiswahili\": \"sw\",\n",
        "    \"Türkçe\": \"tr\",\n",
        "    \"украї́нська\": \"uk\",\n",
        "    \"Tiếng Việt\": \"vi\",\n",
        "    \"简体中文\": \"zh\"\n",
        "}\n",
        "\n",
        "def _get_language(code):\n",
        "    return languages[code]\n",
        "\n",
        "final_language = _get_language(language)\n",
        "#@markdown ### Choose a name for your model:\n",
        "model_name = \"gawr\" #@param {type:\"string\"}\n",
        "#@markdown ---\n",
        "# output:\n",
        "#@markdown ### Choose the working folder: (recommended to save to Drive)\n",
        "\n",
        "#@markdown The working folder will be used in preprocessing, but also in training the model.\n",
        "output_path = \"/home/eleven/content/drive/MyDrive/colab/piper\" #@param {type:\"string\"}\n",
        "output_dir = output_path+\"/\"+model_name\n",
        "if not os.path.exists(output_dir):\n",
        "  os.makedirs(output_dir)\n",
        "#@markdown ---\n",
        "#@markdown ### Choose dataset format:\n",
        "dataset_format = \"ljspeech\" #@param [\"ljspeech\", \"mycroft\"]\n",
        "#@markdown ---\n",
        "#@markdown ### Is this a single speaker dataset? Otherwise, uncheck:\n",
        "single_speaker = True #@param {type:\"boolean\"}\n",
        "if single_speaker:\n",
        "  force_sp = \" --single-speaker\"\n",
        "else:\n",
        "  force_sp = \"\"\n",
        "#@markdown ---\n",
        "#@markdown ### Select the sample rate of the dataset:\n",
        "sample_rate = \"22050\" #@param [\"16000\", \"22050\"]\n",
        "#@markdown ---\n",
        "# creating paths:\n",
        "if not os.path.exists(\"/home/eleven/content/audio_cache\"):\n",
        "    os.makedirs(\"/home/eleven/content/audio_cache\")\n",
        "%cd /home/eleven/content/piper/src/python\n",
        "#@markdown ### Do you want to train using this sample rate, but your audios don't have it?\n",
        "#@markdown The resampler helps you do it quickly!\n",
        "resample = False #@param {type:\"boolean\"}\n",
        "if resample:\n",
        "  !python resample.py --input_dir \"/home/eleven/content/dataset/wavs\" --output_dir \"/home/eleven/content/dataset/wavs_resampled\" --output_sr {sample_rate} --file_ext \"wav\"\n",
        "  !mv /home/eleven/content/dataset/wavs_resampled/* /home/eleven/content/dataset/wavs\n",
        "#@markdown ---\n",
        "# check transcription:\n",
        "!python -m piper_train.preprocess \\\n",
        "  --language {final_language} \\\n",
        "  --input-dir /home/eleven/content/dataset \\\n",
        "  --cache-dir \"/home/eleven/content/audio_cache\" \\\n",
        "  --output-dir \"{output_dir}\" \\\n",
        "  --dataset-name \"{model_name}\" \\\n",
        "  --dataset-format {dataset_format} \\\n",
        "  --sample-rate {sample_rate} \\\n",
        "  {force_sp}\n",
        "print(\"Preprocessing done!\")"
      ]
    },
    {
      "cell_type": "code",
      "execution_count": 30,
      "metadata": {
        "id": "ickQlOCRjkBL",
        "outputId": "a991c64a-88b5-45f3-900f-0a718c2215ed",
        "colab": {
          "base_uri": "https://localhost:8080/"
        }
      },
      "outputs": [
        {
          "output_type": "stream",
          "name": "stdout",
          "text": [
            "Continuing gawr's training at: /home/eleven/content/drive/MyDrive/colab/piper/lightning_logs/version_0/checkpoints/last.ckpt\n",
            "\u001b[93mWarning: this model will be trained from scratch. You need at least 8 hours of data for everything to work decent. Good luck!\n"
          ]
        }
      ],
      "source": [
        "#@markdown # <font color=\"ffc800\"> **4. Settings.** 🧰\n",
        "#@markdown ---\n",
        "import json\n",
        "import ipywidgets as widgets\n",
        "from IPython.display import display\n",
        "import os\n",
        "import re\n",
        "import glob\n",
        "#@markdown ### <font color=\"orange\">**Select the action to train this dataset: (READ CAREFULLY)**\n",
        "\n",
        "#@markdown * The option to <font color=\"orange\">continue a training</font> is self-explanatory. If you've previously trained a model with free colab, your time is up and you're considering training it some more, this is ideal for you. You just have to set the same settings that you set when you first trained this model.\n",
        "#@markdown * The option to <font color=\"orange\">convert a single-speaker model to a multi-speaker model</font> is self-explanatory, and for this it is important that you have processed a dataset that contains text and audio from all possible speakers that you want to train in your model.\n",
        "#@markdown * The <font color=\"orange\">finetune</font> option is used to train a dataset using a pretrained model, that is, train on that data. This option is ideal if you want to train a very small dataset (more than five minutes recommended).\n",
        "#@markdown * The <font color=\"orange\">train from scratch</font> option builds features such as dictionary and speech form from scratch, and this may take longer to converge. For this, hours of audio (8 at least) are recommended, which have a large collection of phonemes.\n",
        "\n",
        "action = \"Continue training\" #@param [\"Continue training\", \"convert single-speaker to multi-speaker model\", \"finetune\", \"train from scratch\"]\n",
        "#@markdown ---\n",
        "if action == \"Continue training\":\n",
        "    checkpoints = glob.glob(f\"/home/eleven/content/drive/MyDrive/colab/piper/lightning_logs/**/checkpoints/last.ckpt\", recursive=True)\n",
        "    if len(checkpoints):\n",
        "        last_checkpoint = sorted(checkpoints, key=lambda x: int(re.findall(r'version_(\\d+)', x)[0]))[-1]\n",
        "        ft_command = f'--resume_from_checkpoint \"{last_checkpoint}\" '\n",
        "        print(f\"Continuing {model_name}'s training at: {last_checkpoint}\")\n",
        "    else:\n",
        "        raise Exception(\"Training cannot be continued as there is no checkpoint to continue at.\")\n",
        "elif action == \"finetune\":\n",
        "    if os.path.exists(f\"{output_dir}/lightning_logs/version_0/checkpoints/last.ckpt\"):\n",
        "        raise Exception(\"Oh no! You have already trained this model before, you cannot choose this option since your progress will be lost, and then your previous time will not count. Please select the option to continue a training.\")\n",
        "    else:\n",
        "        ft_command = '--resume_from_checkpoint \"/home/eleven/content/pretrained.ckpt\" '\n",
        "elif action == \"convert single-speaker to multi-speaker model\":\n",
        "    if not single_speaker:\n",
        "        ft_command = '--resume_from_single_speaker_checkpoint \"/home/eleven/content/pretrained.ckpt\" '\n",
        "    else:\n",
        "        raise Exception(\"This dataset is not a multi-speaker dataset!\")\n",
        "else:\n",
        "    ft_command = \"\"\n",
        "if action== \"convert single-speaker to multi-speaker model\" or action == \"finetune\":\n",
        "    try:\n",
        "        with open('/home/eleven/content/piper/notebooks/pretrained_models.json') as f:\n",
        "            pretrained_models = json.load(f)\n",
        "        if final_language in pretrained_models:\n",
        "            models = pretrained_models[final_language]\n",
        "            model_options = [(model_name, model_name) for model_name, model_url in models.items()]\n",
        "            model_dropdown = widgets.Dropdown(description = \"Choose pretrained model\", options=model_options)\n",
        "            download_button = widgets.Button(description=\"Download\")\n",
        "            def download_model(btn):\n",
        "                model_name = model_dropdown.value\n",
        "                model_url = pretrained_models[final_language][model_name]\n",
        "                print(\"\\033[93mDownloading pretrained model...\")\n",
        "                if model_url.startswith(\"1\"):\n",
        "                    !gdown -q \"{model_url}\" -O \"/home/eleven/content/pretrained.ckpt\"\n",
        "                elif model_url.startswith(\"https://drive.google.com/file/d/\"):\n",
        "                    !gdown -q \"{model_url}\" -O \"/home/eleven/content/pretrained.ckpt\" --fuzzy\n",
        "                else:\n",
        "                    !wget -q \"{model_url}\" -O \"/home/eleven/content/pretrained.ckpt\"\n",
        "                model_dropdown.close()\n",
        "                download_button.close()\n",
        "                output.clear()\n",
        "                if os.path.exists(\"/home/eleven/content/pretrained.ckpt\"):\n",
        "                    print(\"\\033[93mModel downloaded!\")\n",
        "                else:\n",
        "                    raise Exception(\"Couldn't download the pretrained model!\")\n",
        "            download_button.on_click(download_model)\n",
        "            display(model_dropdown, download_button)\n",
        "        else:\n",
        "            raise Exception(f\"There are no pretrained models available for the language {final_language}\")\n",
        "    except FileNotFoundError:\n",
        "        raise Exception(\"The pretrained_models.json file was not found.\")\n",
        "else:\n",
        "    print(\"\\033[93mWarning: this model will be trained from scratch. You need at least 8 hours of data for everything to work decent. Good luck!\")\n",
        "#@markdown ### Choose batch size based on this dataset:\n",
        "batch_size = 12 #@param {type:\"integer\"}\n",
        "#@markdown ---\n",
        "\n",
        "#@markdown ### Choose the quality for this model:\n",
        "\n",
        "#@markdown * x-low - 16Khz audio, 5-7M params\n",
        "#@markdown * medium - 22.05Khz audio, 15-20 params\n",
        "#@markdown * high - 22.05Khz audio, 28-32M params\n",
        "quality = \"medium\" #@param [\"high\", \"x-low\", \"medium\"]\n",
        "#@markdown ---\n",
        "#@markdown ### For how many epochs to save training checkpoints?\n",
        "#@markdown The larger your dataset, you should set this saving interval to a smaller value, as epochs can progress longer time.\n",
        "checkpoint_epochs = 5 #@param {type:\"integer\"}\n",
        "#@markdown ---\n",
        "#@markdown ### Interval to save best k models:\n",
        "#@markdown Set to 0 if you want to disable saving multiple models. If this is the case, check the checkbox below. If set to 1, models will be saved with the file name epoch=xx-step=xx.ckpt, so you will need to empty Drive's trash every so often.\n",
        "num_ckpt = 1 #@param {type:\"integer\"}\n",
        "#@markdown ---\n",
        "#@markdown ### Save latest model:\n",
        "#@markdown This checkbox must be checked if you want to save a single model (last.ckpt). Saving a single model is applied only if num_ckpt is equal to 0. If so, the interval parameter of epochs to save is ignored, since the last model per epoch is saved; also, you won't have to worry about storage. Being equal to 1, last.ckpt will be saved, but another model (model_vVersion.ckpt, the latter takes into account the epoch range you set), so you would have to empty the trash often.\n",
        "\n",
        "#@markdown **It's not recommended to use this option in extremely small datasets, since by saving the last model each epoch, this process will be very fast and the trainer will not be able to save the complete model, which would result in a corrupt last.ckpt.**\n",
        "save_last = True # @param {type:\"boolean\"}\n",
        "#@markdown ---\n",
        "#@markdown ### Step interval to generate model samples:\n",
        "log_every_n_steps = 15 #@param {type:\"integer\"}\n",
        "#@markdown ---\n",
        "#@markdown ### Training epochs:\n",
        "max_epochs = 10000 #@param {type:\"integer\"}\n",
        "#@markdown ---"
      ]
    },
    {
      "cell_type": "code",
      "execution_count": 31,
      "metadata": {
        "cellView": "form",
        "id": "MpKDfhAHjHJ3",
        "outputId": "8692e887-5a45-4ef5-e6e2-c3905c409663",
        "colab": {
          "base_uri": "https://localhost:8080/",
          "height": 821
        }
      },
      "outputs": [
        {
          "output_type": "display_data",
          "data": {
            "text/plain": [
              "<IPython.core.display.HTML object>"
            ],
            "text/html": [
              "\n",
              "      <iframe id=\"tensorboard-frame-a4ee71dd7e61de7d\" width=\"100%\" height=\"800\" frameborder=\"0\">\n",
              "      </iframe>\n",
              "      <script>\n",
              "        (function() {\n",
              "          const frame = document.getElementById(\"tensorboard-frame-a4ee71dd7e61de7d\");\n",
              "          const url = new URL(\"/\", window.location);\n",
              "          const port = 6006;\n",
              "          if (port) {\n",
              "            url.port = port;\n",
              "          }\n",
              "          frame.src = url;\n",
              "        })();\n",
              "      </script>\n",
              "    "
            ]
          },
          "metadata": {}
        }
      ],
      "source": [
        "#@markdown # <font color=\"ffc800\"> **5. Run the TensorBoard extension.** 📈\n",
        "#@markdown ---\n",
        "#@markdown The TensorBoard is used to visualize the results of the model while it's being trained such as audio and losses.\n",
        "\n",
        "%load_ext tensorboard\n",
        "%tensorboard --logdir {output_dir}"
      ]
    },
    {
      "cell_type": "code",
      "execution_count": 33,
      "metadata": {
        "cellView": "form",
        "colab": {
          "base_uri": "https://localhost:8080/"
        },
        "id": "X4zbSjXg2J3N",
        "outputId": "e4528751-b864-4d32-fe12-bc1d3d0096b5"
      },
      "outputs": [
        {
          "output_type": "stream",
          "name": "stdout",
          "text": [
            "DEBUG:piper_train:Namespace(dataset_dir='/home/eleven/content/drive/MyDrive/colab/piper/gawr', checkpoint_epochs=5, quality='medium', resume_from_single_speaker_checkpoint=None, batch_size=12, validation_split=0.0, num_test_examples=0, max_phoneme_ids=None, hidden_channels=192, inter_channels=192, filter_channels=768, n_layers=6, n_heads=2, lr_decay=0.999875, lr_reduce_enabled=False, lr_reduce_factor=0.5, lr_reduce_patience=10, show_plot=False, plot_save_path=None, learning_rate=0.0002, weight_decay=0.01, override_learning_rate=False, grad_clip=None, accelerator='gpu', devices=1, log_every_n_steps=15, max_epochs=10000, seed=1234, random_seed=False, resume_from_checkpoint='/home/eleven/content/drive/MyDrive/colab/piper/lightning_logs/version_0/checkpoints/last.ckpt', precision='32', num_ckpt=1, default_root_dir=None, save_last=True, monitor='val_loss', monitor_mode='min', early_stop_patience=0)\r\n",
            "DEBUG:piper_train:Using manual seed: 1234\n",
            "DEBUG:piper_train:Checkpoints will be saved every 5 epoch(s)\n",
            "DEBUG:piper_train:1 Checkpoints will be saved\n",
            "GPU available: True (cuda), used: True\n",
            "TPU available: False, using: 0 TPU cores\n",
            "HPU available: False, using: 0 HPUs\n",
            "/home/eleven/content/.venv/lib/python3.11/site-packages/torch/nn/utils/weight_norm.py:143: FutureWarning: `torch.nn.utils.weight_norm` is deprecated in favor of `torch.nn.utils.parametrizations.weight_norm`.\n",
            "  WeightNorm.apply(module, name, dim)\n",
            "DEBUG:vits.dataset:Loading dataset: /home/eleven/content/drive/MyDrive/colab/piper/gawr/dataset.jsonl\n",
            "Restoring states from the checkpoint path at /home/eleven/content/drive/MyDrive/colab/piper/lightning_logs/version_0/checkpoints/last.ckpt\n",
            "/home/eleven/content/.venv/lib/python3.11/site-packages/pytorch_lightning/utilities/migration/utils.py:56: The loaded checkpoint was produced with Lightning v2.5.1.post0, which is newer than your current Lightning version: v2.5.1\n",
            "/home/eleven/content/.venv/lib/python3.11/site-packages/pytorch_lightning/callbacks/model_checkpoint.py:362: The dirpath has changed from '/content/drive/MyDrive/colab/piper/gawr/lightning_logs/version_3/checkpoints' to '/home/eleven/content/drive/MyDrive/colab/piper/gawr/lightning_logs/version_0/checkpoints', therefore `best_model_score`, `kth_best_model_path`, `kth_value`, `last_model_path` and `best_k_models` won't be reloaded. Only `best_model_path` will be reloaded.\n",
            "LOCAL_RANK: 0 - CUDA_VISIBLE_DEVICES: [0]\n",
            "\n",
            "  | Name    | Type                     | Params | Mode \n",
            "-------------------------------------------------------------\n",
            "0 | model_g | SynthesizerTrn           | 23.7 M | train\n",
            "1 | model_d | MultiPeriodDiscriminator | 46.7 M | train\n",
            "-------------------------------------------------------------\n",
            "70.4 M    Trainable params\n",
            "0         Non-trainable params\n",
            "70.4 M    Total params\n",
            "281.644   Total estimated model params size (MB)\n",
            "504       Modules in train mode\n",
            "0         Modules in eval mode\n",
            "Restored all states from the checkpoint at /home/eleven/content/drive/MyDrive/colab/piper/lightning_logs/version_0/checkpoints/last.ckpt\n",
            "Sanity Checking: |                                        | 0/? [00:00<?, ?it/s]/home/eleven/content/.venv/lib/python3.11/site-packages/pytorch_lightning/trainer/connectors/data_connector.py:425: The 'val_dataloader' does not have many workers which may be a bottleneck. Consider increasing the value of the `num_workers` argument` to `num_workers=15` in the `DataLoader` to improve performance.\n",
            "/home/eleven/content/.venv/lib/python3.11/site-packages/pytorch_lightning/utilities/data.py:106: Total length of `DataLoader` across ranks is zero. Please make sure this was your intention.\n",
            "/home/eleven/content/.venv/lib/python3.11/site-packages/pytorch_lightning/trainer/connectors/data_connector.py:425: The 'train_dataloader' does not have many workers which may be a bottleneck. Consider increasing the value of the `num_workers` argument` to `num_workers=15` in the `DataLoader` to improve performance.\n",
            "Epoch 2669: 100%|████████| 71/71 [01:16<00:00,  0.93it/s, v_num=0, step=1.64e+5]/home/eleven/content/.venv/lib/python3.11/site-packages/pytorch_lightning/callbacks/model_checkpoint.py:384: `ModelCheckpoint(monitor='val_loss')` could not find the monitored key in the returned metrics: ['lr-AdamW', 'lr-AdamW-1', 'gen_loss', 'disc_loss', 'gen_lr', 'disc_lr', 'step', 'epoch']. HINT: Did you call `log('val_loss', value)` in the `LightningModule`?\n",
            "Epoch 2815:   0%|                 | 0/71 [00:00<?, ?it/s, v_num=0, step=1.84e+5]^C\n"
          ]
        }
      ],
      "source": [
        "#@markdown # <font color=\"ffc800\"> **6. Train.** 🏋️‍♂️\n",
        "#@markdown ---\n",
        "#@markdown ### Run this cell to train your final model!\n",
        "\n",
        "#@markdown ---\n",
        "#@markdown ### <font color=\"orange\">**Disable validation?**\n",
        "#@markdown By uncheck this checkbox, this will allow to train the full dataset, without using any audio files or examples as a validation set. So, it will not be able to generate audios on the tensorboard while it's training. It is recommended to disable validation on extremely small datasets.\n",
        "validation = False #@param {type:\"boolean\"}\n",
        "if validation:\n",
        "    validation_split = 0.01\n",
        "    num_test_examples = 1\n",
        "else:\n",
        "    validation_split = 0\n",
        "    num_test_examples = 0\n",
        "if not save_last:\n",
        "    save_last_command = \"\"\n",
        "else:\n",
        "    save_last_command = \"--save_last True \"\n",
        "get_ipython().system(f'''\n",
        "python -m piper_train \\\n",
        "--dataset-dir \"{output_dir}\" \\\n",
        "--accelerator 'gpu' \\\n",
        "--devices 1 \\\n",
        "--batch-size {batch_size} \\\n",
        "--validation-split {validation_split} \\\n",
        "--num-test-examples {num_test_examples} \\\n",
        "--quality {quality} \\\n",
        "--checkpoint-epochs {checkpoint_epochs} \\\n",
        "--num_ckpt {num_ckpt} \\\n",
        "{save_last_command}\\\n",
        "--log_every_n_steps {log_every_n_steps} \\\n",
        "--max_epochs {max_epochs} \\\n",
        "{ft_command}\\\n",
        "--precision 32\n",
        "''')"
      ]
    },
    {
      "cell_type": "markdown",
      "metadata": {
        "id": "6ISG085SYn85"
      },
      "source": [
        "#  <font color=\"orange\">**Have you finished training and want to test the model?**\n",
        "\n",
        "* If you want to run this model in any software that Piper integrates or the same Piper app, export your model using the [model exporter notebook](https://colab.research.google.com/github/rmcpantoja/piper/blob/master/notebooks/piper_model_exporter.ipynb)!\n",
        "* Wait! I want to test this right now before exporting it to the supported format for Piper. Test your generated last.ckpt with [this notebook](https://colab.research.google.com/github/rmcpantoja/piper/blob/master/notebooks/piper_inference_(ckpt).ipynb)!"
      ]
    }
  ],
  "metadata": {
    "accelerator": "GPU",
    "colab": {
      "provenance": [],
      "include_colab_link": true
    },
    "gpuClass": "standard",
    "kernelspec": {
      "display_name": "Python 3",
      "name": "python3"
    },
    "language_info": {
      "name": "python"
    }
  },
  "nbformat": 4,
  "nbformat_minor": 0
}